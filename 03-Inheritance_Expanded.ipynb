{
 "cells": [
  {
   "cell_type": "markdown",
   "id": "58519504",
   "metadata": {},
   "source": [
    "# 🧬 Object-Oriented Programming: Inheritance in Python\n",
    "\n",
    "This notebook explains **inheritance** in Python step by step using simple, clear examples.\n",
    "You'll learn:\n",
    "- What inheritance is\n",
    "- How to use `super()`\n",
    "- How subclasses can override or extend parent behavior\n",
    "- How to use polymorphism with inherited classes"
   ]
  },
  {
   "cell_type": "markdown",
   "id": "4ddd0d48",
   "metadata": {},
   "source": [
    "## 📘 What is Inheritance?\n",
    "Inheritance allows a class (child/subclass) to **reuse** code from another class (parent/superclass).\n",
    "It helps avoid duplication and makes code easier to manage."
   ]
  },
  {
   "cell_type": "code",
   "execution_count": 4,
   "id": "e94d4885",
   "metadata": {},
   "outputs": [
    {
     "name": "stdout",
     "output_type": "stream",
     "text": [
      "GenericAnimal makes a sound.\n",
      "Rex barks.\n"
     ]
    }
   ],
   "source": [
    "# Parent class\n",
    "class Animal:\n",
    "    def __init__(self, name):\n",
    "        self.name = name\n",
    "\n",
    "    def speak(self):\n",
    "        print(f\"{self.name} makes a sound.\")\n",
    "class Dog(Animal):\n",
    "    def speak(self):\n",
    "        print(f\"{self.name} barks.\")\n",
    "        \n",
    "a = Animal(\"GenericAnimal\")\n",
    "d = Dog(\"Rex\")\n",
    "\n",
    "a.speak()\n",
    "d.speak()"
   ]
  },
  {
   "cell_type": "code",
   "execution_count": 1,
   "id": "b16ace99",
   "metadata": {},
   "outputs": [
    {
     "ename": "NameError",
     "evalue": "name 'Animal' is not defined",
     "output_type": "error",
     "traceback": [
      "\u001b[1;31m---------------------------------------------------------------------------\u001b[0m",
      "\u001b[1;31mNameError\u001b[0m                                 Traceback (most recent call last)",
      "Cell \u001b[1;32mIn[1], line 2\u001b[0m\n\u001b[0;32m      1\u001b[0m \u001b[38;5;66;03m# Child class that inherits from Animal\u001b[39;00m\n\u001b[1;32m----> 2\u001b[0m \u001b[38;5;28;01mclass\u001b[39;00m\u001b[38;5;250m \u001b[39m\u001b[38;5;21;01mDog\u001b[39;00m(\u001b[43mAnimal\u001b[49m):\n\u001b[0;32m      3\u001b[0m     \u001b[38;5;28;01mdef\u001b[39;00m\u001b[38;5;250m \u001b[39m\u001b[38;5;21mspeak\u001b[39m(\u001b[38;5;28mself\u001b[39m):\n\u001b[0;32m      4\u001b[0m         \u001b[38;5;28mprint\u001b[39m(\u001b[38;5;124mf\u001b[39m\u001b[38;5;124m\"\u001b[39m\u001b[38;5;132;01m{\u001b[39;00m\u001b[38;5;28mself\u001b[39m\u001b[38;5;241m.\u001b[39mname\u001b[38;5;132;01m}\u001b[39;00m\u001b[38;5;124m barks.\u001b[39m\u001b[38;5;124m\"\u001b[39m)\n",
      "\u001b[1;31mNameError\u001b[0m: name 'Animal' is not defined"
     ]
    }
   ],
   "source": [
    "# Child class that inherits from Animal\n",
    "class Dog(Animal):\n",
    "    def speak(self):\n",
    "        print(f\"{self.name} barks.\")"
   ]
  },
  {
   "cell_type": "code",
   "execution_count": 2,
   "id": "8eb21b2a",
   "metadata": {},
   "outputs": [
    {
     "ename": "NameError",
     "evalue": "name 'Animal' is not defined",
     "output_type": "error",
     "traceback": [
      "\u001b[1;31m---------------------------------------------------------------------------\u001b[0m",
      "\u001b[1;31mNameError\u001b[0m                                 Traceback (most recent call last)",
      "Cell \u001b[1;32mIn[2], line 1\u001b[0m\n\u001b[1;32m----> 1\u001b[0m a \u001b[38;5;241m=\u001b[39m \u001b[43mAnimal\u001b[49m(\u001b[38;5;124m\"\u001b[39m\u001b[38;5;124mGenericAnimal\u001b[39m\u001b[38;5;124m\"\u001b[39m)\n\u001b[0;32m      2\u001b[0m d \u001b[38;5;241m=\u001b[39m Dog(\u001b[38;5;124m\"\u001b[39m\u001b[38;5;124mRex\u001b[39m\u001b[38;5;124m\"\u001b[39m)\n\u001b[0;32m      4\u001b[0m a\u001b[38;5;241m.\u001b[39mspeak()\n",
      "\u001b[1;31mNameError\u001b[0m: name 'Animal' is not defined"
     ]
    }
   ],
   "source": [
    "a = Animal(\"GenericAnimal\")\n",
    "d = Dog(\"Rex\")\n",
    "\n",
    "a.speak()\n",
    "d.speak()  # This uses the Dog's overridden method"
   ]
  },
  {
   "cell_type": "markdown",
   "id": "855105df",
   "metadata": {},
   "source": [
    "## 🔁 Using `super()`\n",
    "The `super()` function lets the child class call methods from the parent class, especially useful inside `__init__()`."
   ]
  },
  {
   "cell_type": "code",
   "execution_count": null,
   "id": "a7581da7",
   "metadata": {},
   "outputs": [],
   "source": [
    "class Cat(Animal):\n",
    "    def __init__(self, name, color):\n",
    "        super().__init__(name)  # Call the parent constructor\n",
    "        self.color = color\n",
    "\n",
    "    def speak(self):\n",
    "        super().speak()  # Optionally call parent version too\n",
    "        print(f\"{self.name} meows.\")"
   ]
  },
  {
   "cell_type": "code",
   "execution_count": null,
   "id": "8de7fc0e",
   "metadata": {},
   "outputs": [],
   "source": [
    "c = Cat(\"Whiskers\", \"gray\")\n",
    "print(f\"Color: {c.color}\")\n",
    "c.speak()"
   ]
  },
  {
   "cell_type": "markdown",
   "id": "101f6fca",
   "metadata": {},
   "source": [
    "## ➕ Extending Behavior in Subclasses\n",
    "Subclasses can add new methods that the parent doesn't have."
   ]
  },
  {
   "cell_type": "code",
   "execution_count": null,
   "id": "f1a7860d",
   "metadata": {},
   "outputs": [],
   "source": [
    "class Bird(Animal):\n",
    "    def fly(self):\n",
    "        print(f\"{self.name} is flying!\")"
   ]
  },
  {
   "cell_type": "code",
   "execution_count": null,
   "id": "1f8dff7f",
   "metadata": {},
   "outputs": [],
   "source": [
    "b = Bird(\"Tweety\")\n",
    "b.speak()\n",
    "b.fly()"
   ]
  },
  {
   "cell_type": "markdown",
   "id": "e4305431",
   "metadata": {},
   "source": [
    "## 🔄 Polymorphism with Inheritance\n",
    "You can use a loop to treat different subclasses the same way if they share method names."
   ]
  },
  {
   "cell_type": "code",
   "execution_count": null,
   "id": "1565a89b",
   "metadata": {},
   "outputs": [],
   "source": [
    "animals = [Dog(\"Buddy\"), Cat(\"Mittens\", \"white\"), Bird(\"Robin\")]\n",
    "\n",
    "for animal in animals:\n",
    "    animal.speak()  # Each one behaves differently\n"
   ]
  },
  {
   "cell_type": "markdown",
   "id": "c16eb6a3",
   "metadata": {},
   "source": [
    "## ✅ Summary of Inheritance\n",
    "- Use inheritance to reuse and organize code\n",
    "- `super()` lets you call the parent class's methods\n",
    "- Subclasses can override or extend parent behavior\n",
    "- Polymorphism allows different objects to respond differently to the same method call\n",
    "\n",
    "This is powerful for designing flexible, reusable code!"
   ]
  }
 ],
 "metadata": {
  "kernelspec": {
   "display_name": "Python 3",
   "language": "python",
   "name": "python3"
  },
  "language_info": {
   "codemirror_mode": {
    "name": "ipython",
    "version": 3
   },
   "file_extension": ".py",
   "mimetype": "text/x-python",
   "name": "python",
   "nbconvert_exporter": "python",
   "pygments_lexer": "ipython3",
   "version": "3.10.5"
  }
 },
 "nbformat": 4,
 "nbformat_minor": 5
}
